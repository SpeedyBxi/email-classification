{
  "metadata": {
    "kernelspec": {
      "language": "python",
      "display_name": "Python 3",
      "name": "python3"
    },
    "language_info": {
      "name": "python",
      "version": "3.10.13",
      "mimetype": "text/x-python",
      "codemirror_mode": {
        "name": "ipython",
        "version": 3
      },
      "pygments_lexer": "ipython3",
      "nbconvert_exporter": "python",
      "file_extension": ".py"
    },
    "kaggle": {
      "accelerator": "none",
      "dataSources": [
        {
          "sourceId": 7263127,
          "sourceType": "datasetVersion",
          "datasetId": 1522783
        }
      ],
      "dockerImageVersionId": 30698,
      "isInternetEnabled": false,
      "language": "python",
      "sourceType": "notebook",
      "isGpuEnabled": false
    },
    "colab": {
      "name": "independent studies final",
      "provenance": [],
      "include_colab_link": true
    }
  },
  "nbformat_minor": 0,
  "nbformat": 4,
  "cells": [
    {
      "cell_type": "markdown",
      "metadata": {
        "id": "view-in-github",
        "colab_type": "text"
      },
      "source": [
        "<a href=\"https://colab.research.google.com/github/SpeedyBxi/email-classification/blob/main/independent_studies_final.ipynb\" target=\"_parent\"><img src=\"https://colab.research.google.com/assets/colab-badge.svg\" alt=\"Open In Colab\"/></a>"
      ]
    },
    {
      "source": [
        "\n",
        "# IMPORTANT: RUN THIS CELL IN ORDER TO IMPORT YOUR KAGGLE DATA SOURCES\n",
        "# TO THE CORRECT LOCATION (/kaggle/input) IN YOUR NOTEBOOK,\n",
        "# THEN FEEL FREE TO DELETE THIS CELL.\n",
        "# NOTE: THIS NOTEBOOK ENVIRONMENT DIFFERS FROM KAGGLE'S PYTHON\n",
        "# ENVIRONMENT SO THERE MAY BE MISSING LIBRARIES USED BY YOUR\n",
        "# NOTEBOOK.\n",
        "\n",
        "import os\n",
        "import sys\n",
        "from tempfile import NamedTemporaryFile\n",
        "from urllib.request import urlopen\n",
        "from urllib.parse import unquote, urlparse\n",
        "from urllib.error import HTTPError\n",
        "from zipfile import ZipFile\n",
        "import tarfile\n",
        "import shutil\n",
        "\n",
        "CHUNK_SIZE = 40960\n",
        "DATA_SOURCE_MAPPING = 'spam-email-classification:https%3A%2F%2Fstorage.googleapis.com%2Fkaggle-data-sets%2F1522783%2F7263127%2Fbundle%2Farchive.zip%3FX-Goog-Algorithm%3DGOOG4-RSA-SHA256%26X-Goog-Credential%3Dgcp-kaggle-com%2540kaggle-161607.iam.gserviceaccount.com%252F20240725%252Fauto%252Fstorage%252Fgoog4_request%26X-Goog-Date%3D20240725T194525Z%26X-Goog-Expires%3D259200%26X-Goog-SignedHeaders%3Dhost%26X-Goog-Signature%3Dc4758376d00750922470eb2db728a011c5f1137a11abd9354dfa0a220bc18131fe008125e8e082ab6cec20716bf72c2d8b7549ddc53c5bd96183e6180a6e299967a5fcd7e02aa093903ffcb94be11ee8e5168891fcdde2d0f259efcb5730e003ebad59ac1ab629d92cd6f5df22f88e919e1b497d9ab54a0fefaf8f24e177a87be846a08ac26d2c63093e636e4aeee8e6546282e2941404aa4a922104928df2ed4565f6e524df5d5381992ccf40922d74d52b7e69842e31b5c4660a0c262ec3aaa9f9d1bf14146b5c73be919e1c54be2e2db98a22a39b185bfd5638bc3e866685abc0c738bba7b14c732e0deab2c3d711080bcee3b3117eb4153acb23c8cb43ac'\n",
        "\n",
        "KAGGLE_INPUT_PATH='/kaggle/input'\n",
        "KAGGLE_WORKING_PATH='/kaggle/working'\n",
        "KAGGLE_SYMLINK='kaggle'\n",
        "\n",
        "!umount /kaggle/input/ 2> /dev/null\n",
        "shutil.rmtree('/kaggle/input', ignore_errors=True)\n",
        "os.makedirs(KAGGLE_INPUT_PATH, 0o777, exist_ok=True)\n",
        "os.makedirs(KAGGLE_WORKING_PATH, 0o777, exist_ok=True)\n",
        "\n",
        "try:\n",
        "  os.symlink(KAGGLE_INPUT_PATH, os.path.join(\"..\", 'input'), target_is_directory=True)\n",
        "except FileExistsError:\n",
        "  pass\n",
        "try:\n",
        "  os.symlink(KAGGLE_WORKING_PATH, os.path.join(\"..\", 'working'), target_is_directory=True)\n",
        "except FileExistsError:\n",
        "  pass\n",
        "\n",
        "for data_source_mapping in DATA_SOURCE_MAPPING.split(','):\n",
        "    directory, download_url_encoded = data_source_mapping.split(':')\n",
        "    download_url = unquote(download_url_encoded)\n",
        "    filename = urlparse(download_url).path\n",
        "    destination_path = os.path.join(KAGGLE_INPUT_PATH, directory)\n",
        "    try:\n",
        "        with urlopen(download_url) as fileres, NamedTemporaryFile() as tfile:\n",
        "            total_length = fileres.headers['content-length']\n",
        "            print(f'Downloading {directory}, {total_length} bytes compressed')\n",
        "            dl = 0\n",
        "            data = fileres.read(CHUNK_SIZE)\n",
        "            while len(data) > 0:\n",
        "                dl += len(data)\n",
        "                tfile.write(data)\n",
        "                done = int(50 * dl / int(total_length))\n",
        "                sys.stdout.write(f\"\\r[{'=' * done}{' ' * (50-done)}] {dl} bytes downloaded\")\n",
        "                sys.stdout.flush()\n",
        "                data = fileres.read(CHUNK_SIZE)\n",
        "            if filename.endswith('.zip'):\n",
        "              with ZipFile(tfile) as zfile:\n",
        "                zfile.extractall(destination_path)\n",
        "            else:\n",
        "              with tarfile.open(tfile.name) as tarfile:\n",
        "                tarfile.extractall(destination_path)\n",
        "            print(f'\\nDownloaded and uncompressed: {directory}')\n",
        "    except HTTPError as e:\n",
        "        print(f'Failed to load (likely expired) {download_url} to path {destination_path}')\n",
        "        continue\n",
        "    except OSError as e:\n",
        "        print(f'Failed to load {download_url} to path {destination_path}')\n",
        "        continue\n",
        "\n",
        "print('Data source import complete.')\n"
      ],
      "metadata": {
        "id": "Tm4JrxhEd4SG"
      },
      "cell_type": "code",
      "outputs": [],
      "execution_count": null
    },
    {
      "cell_type": "code",
      "source": [
        "# This Python 3 environment comes with many helpful analytics libraries installed\n",
        "# It is defined by the kaggle/python Docker image: https://github.com/kaggle/docker-python\n",
        "# For example, here's several helpful packages to load\n",
        "\n",
        "import numpy as np # linear algebra\n",
        "import pandas as pd # data processing, CSV file I/O (e.g. pd.read_csv)\n",
        "\n",
        "# Input data files are available in the read-only \"../input/\" directory\n",
        "# For example, running this (by clicking run or pressing Shift+Enter) will list all files under the input directory\n",
        "\n",
        "import os\n",
        "for dirname, _, filenames in os.walk('/kaggle/input'):\n",
        "    for filename in filenames:\n",
        "        print(os.path.join(dirname, filename))\n",
        "\n",
        "# You can write up to 20GB to the current directory (/kaggle/working/) that gets preserved as output when you create a version using \"Save & Run All\"\n",
        "# You can also write temporary files to /kaggle/temp/, but they won't be saved outside of the current session"
      ],
      "metadata": {
        "_uuid": "8f2839f25d086af736a60e9eeb907d3b93b6e0e5",
        "_cell_guid": "b1076dfc-b9ad-4769-8c92-a6c4dae69d19",
        "execution": {
          "iopub.status.busy": "2024-05-16T19:08:37.609148Z",
          "iopub.execute_input": "2024-05-16T19:08:37.609617Z",
          "iopub.status.idle": "2024-05-16T19:08:38.115471Z",
          "shell.execute_reply.started": "2024-05-16T19:08:37.609567Z",
          "shell.execute_reply": "2024-05-16T19:08:38.113993Z"
        },
        "trusted": true,
        "id": "JyZBYqh2d4SI",
        "outputId": "c95bcbde-a8ed-4171-b3f0-1a7baeea7979"
      },
      "execution_count": null,
      "outputs": [
        {
          "name": "stdout",
          "text": "/kaggle/input/spam-email-classification/email.csv\n",
          "output_type": "stream"
        }
      ]
    },
    {
      "cell_type": "markdown",
      "source": [
        "## Import all necessary libraries, pytorch, matplotlib for graphs, sklearn for TfidfVectorizer,"
      ],
      "metadata": {
        "id": "NWEP6CsEd4SJ"
      }
    },
    {
      "cell_type": "code",
      "source": [
        "import torch\n",
        "from torch import nn\n",
        "import matplotlib.pyplot as plt\n",
        "import sklearn\n",
        "from sklearn.feature_extraction.text import TfidfVectorizer"
      ],
      "metadata": {
        "execution": {
          "iopub.status.busy": "2024-05-16T19:08:38.118582Z",
          "iopub.execute_input": "2024-05-16T19:08:38.119313Z",
          "iopub.status.idle": "2024-05-16T19:08:40.764547Z",
          "shell.execute_reply.started": "2024-05-16T19:08:38.119264Z",
          "shell.execute_reply": "2024-05-16T19:08:40.763203Z"
        },
        "trusted": true,
        "id": "3yiCzj1fd4SK"
      },
      "execution_count": null,
      "outputs": []
    },
    {
      "cell_type": "markdown",
      "source": [
        "## Read the csv file, drop the last row since it didn't contain actual data, print columns and info to describe the data"
      ],
      "metadata": {
        "id": "eARSwMbFd4SL"
      }
    },
    {
      "cell_type": "code",
      "source": [
        "data = pd.read_csv(\"/kaggle/input/spam-email-classification/email.csv\")\n",
        "data = data.drop(data.index[-1])\n",
        "print(data.columns)\n",
        "print(data.info)"
      ],
      "metadata": {
        "execution": {
          "iopub.status.busy": "2024-05-16T19:08:40.766631Z",
          "iopub.execute_input": "2024-05-16T19:08:40.767616Z",
          "iopub.status.idle": "2024-05-16T19:08:40.825394Z",
          "shell.execute_reply.started": "2024-05-16T19:08:40.767568Z",
          "shell.execute_reply": "2024-05-16T19:08:40.824458Z"
        },
        "trusted": true,
        "id": "3b8ZvRHvd4SL",
        "outputId": "90ef7b52-52bb-43ab-b81f-aa82caec4436"
      },
      "execution_count": null,
      "outputs": [
        {
          "name": "stdout",
          "text": "Index(['Category', 'Message'], dtype='object')\n<bound method DataFrame.info of      Category                                            Message\n0         ham  Go until jurong point, crazy.. Available only ...\n1         ham                      Ok lar... Joking wif u oni...\n2        spam  Free entry in 2 a wkly comp to win FA Cup fina...\n3         ham  U dun say so early hor... U c already then say...\n4         ham  Nah I don't think he goes to usf, he lives aro...\n...       ...                                                ...\n5567     spam  This is the 2nd time we have tried 2 contact u...\n5568      ham               Will ü b going to esplanade fr home?\n5569      ham  Pity, * was in mood for that. So...any other s...\n5570      ham  The guy did some bitching but I acted like i'd...\n5571      ham                         Rofl. Its true to its name\n\n[5572 rows x 2 columns]>\n",
          "output_type": "stream"
        }
      ]
    },
    {
      "cell_type": "markdown",
      "source": [
        "## Plot the number of messages that were spam compared to the number that weren't spam"
      ],
      "metadata": {
        "id": "v2uJRu15d4SL"
      }
    },
    {
      "cell_type": "code",
      "source": [
        "data['Category'].value_counts().plot(kind='bar')\n",
        "plt.xlabel('Category')\n",
        "plt.ylabel('Count')\n",
        "plt.show()"
      ],
      "metadata": {
        "execution": {
          "iopub.status.busy": "2024-05-16T19:08:40.826679Z",
          "iopub.execute_input": "2024-05-16T19:08:40.827305Z",
          "iopub.status.idle": "2024-05-16T19:08:41.115782Z",
          "shell.execute_reply.started": "2024-05-16T19:08:40.827271Z",
          "shell.execute_reply": "2024-05-16T19:08:41.114354Z"
        },
        "trusted": true,
        "id": "pO_2jF6wd4SM",
        "outputId": "594b9168-4efc-4568-a626-17bda11b0cd8"
      },
      "execution_count": null,
      "outputs": [
        {
          "output_type": "display_data",
          "data": {
            "text/plain": "<Figure size 640x480 with 1 Axes>",
            "image/png": "[encoded data removed]"
          },
          "metadata": {}
        }
      ]
    },
    {
      "cell_type": "markdown",
      "source": [
        "## Get the datatype of the data in order to know how to change it"
      ],
      "metadata": {
        "id": "jg2RhYsrd4SM"
      }
    },
    {
      "cell_type": "code",
      "source": [
        "data.dtypes"
      ],
      "metadata": {
        "execution": {
          "iopub.status.busy": "2024-05-16T19:08:41.120294Z",
          "iopub.execute_input": "2024-05-16T19:08:41.121117Z",
          "iopub.status.idle": "2024-05-16T19:08:41.13034Z",
          "shell.execute_reply.started": "2024-05-16T19:08:41.121068Z",
          "shell.execute_reply": "2024-05-16T19:08:41.12938Z"
        },
        "trusted": true,
        "id": "v-pd3I5Dd4SM",
        "outputId": "22327b7e-6cd9-408b-bfa3-079bf781b17d"
      },
      "execution_count": null,
      "outputs": [
        {
          "execution_count": 6,
          "output_type": "execute_result",
          "data": {
            "text/plain": "Category    object\nMessage     object\ndtype: object"
          },
          "metadata": {}
        }
      ]
    },
    {
      "cell_type": "markdown",
      "source": [
        "## Change the emails that are spam to 1 and the emails that are not spam to 0"
      ],
      "metadata": {
        "id": "Rthi7u2Od4SN"
      }
    },
    {
      "cell_type": "code",
      "source": [
        "data.loc[data['Category'] == 'ham', 'Category'] = 0"
      ],
      "metadata": {
        "execution": {
          "iopub.status.busy": "2024-05-16T19:08:41.131539Z",
          "iopub.execute_input": "2024-05-16T19:08:41.132451Z",
          "iopub.status.idle": "2024-05-16T19:08:41.148527Z",
          "shell.execute_reply.started": "2024-05-16T19:08:41.132417Z",
          "shell.execute_reply": "2024-05-16T19:08:41.147352Z"
        },
        "trusted": true,
        "id": "6L-OErrud4SN"
      },
      "execution_count": null,
      "outputs": []
    },
    {
      "cell_type": "code",
      "source": [
        "data.loc[data['Category'] == 'spam', 'Category'] = 1"
      ],
      "metadata": {
        "execution": {
          "iopub.status.busy": "2024-05-16T19:08:41.150121Z",
          "iopub.execute_input": "2024-05-16T19:08:41.150472Z",
          "iopub.status.idle": "2024-05-16T19:08:41.165365Z",
          "shell.execute_reply.started": "2024-05-16T19:08:41.150442Z",
          "shell.execute_reply": "2024-05-16T19:08:41.163714Z"
        },
        "trusted": true,
        "id": "NwUcyPu4d4SN"
      },
      "execution_count": null,
      "outputs": []
    },
    {
      "cell_type": "markdown",
      "source": [
        "## Cast these numbers as integers for later"
      ],
      "metadata": {
        "id": "Z08YtmVOd4SN"
      }
    },
    {
      "cell_type": "code",
      "source": [
        "data['Category'] = data['Category'].astype(int)"
      ],
      "metadata": {
        "execution": {
          "iopub.status.busy": "2024-05-16T19:08:41.16703Z",
          "iopub.execute_input": "2024-05-16T19:08:41.1674Z",
          "iopub.status.idle": "2024-05-16T19:08:41.17973Z",
          "shell.execute_reply.started": "2024-05-16T19:08:41.16737Z",
          "shell.execute_reply": "2024-05-16T19:08:41.178321Z"
        },
        "trusted": true,
        "id": "h4nPqDRBd4SN"
      },
      "execution_count": null,
      "outputs": []
    },
    {
      "cell_type": "markdown",
      "source": [
        "## Print first 10 rows of dataset in order to know what you're working with"
      ],
      "metadata": {
        "id": "sjuB__fOd4SO"
      }
    },
    {
      "cell_type": "code",
      "source": [
        "data.head(10)"
      ],
      "metadata": {
        "execution": {
          "iopub.status.busy": "2024-05-16T19:08:41.180917Z",
          "iopub.execute_input": "2024-05-16T19:08:41.181292Z",
          "iopub.status.idle": "2024-05-16T19:08:41.207598Z",
          "shell.execute_reply.started": "2024-05-16T19:08:41.181259Z",
          "shell.execute_reply": "2024-05-16T19:08:41.205892Z"
        },
        "trusted": true,
        "id": "7-P-X3fXd4SO",
        "outputId": "9d1b4c33-5766-4f86-e6ed-d7612077e0fc"
      },
      "execution_count": null,
      "outputs": [
        {
          "execution_count": 10,
          "output_type": "execute_result",
          "data": {
            "text/plain": "   Category                                            Message\n0         0  Go until jurong point, crazy.. Available only ...\n1         0                      Ok lar... Joking wif u oni...\n2         1  Free entry in 2 a wkly comp to win FA Cup fina...\n3         0  U dun say so early hor... U c already then say...\n4         0  Nah I don't think he goes to usf, he lives aro...\n5         1  FreeMsg Hey there darling it's been 3 week's n...\n6         0  Even my brother is not like to speak with me. ...\n7         0  As per your request 'Melle Melle (Oru Minnamin...\n8         1  WINNER!! As a valued network customer you have...\n9         1  Had your mobile 11 months or more? U R entitle...",
            "text/html": "<div>\n<style scoped>\n    .dataframe tbody tr th:only-of-type {\n        vertical-align: middle;\n    }\n\n    .dataframe tbody tr th {\n        vertical-align: top;\n    }\n\n    .dataframe thead th {\n        text-align: right;\n    }\n</style>\n<table border=\"1\" class=\"dataframe\">\n  <thead>\n    <tr style=\"text-align: right;\">\n      <th></th>\n      <th>Category</th>\n      <th>Message</th>\n    </tr>\n  </thead>\n  <tbody>\n    <tr>\n      <th>0</th>\n      <td>0</td>\n      <td>Go until jurong point, crazy.. Available only ...</td>\n    </tr>\n    <tr>\n      <th>1</th>\n      <td>0</td>\n      <td>Ok lar... Joking wif u oni...</td>\n    </tr>\n    <tr>\n      <th>2</th>\n      <td>1</td>\n      <td>Free entry in 2 a wkly comp to win FA Cup fina...</td>\n    </tr>\n    <tr>\n      <th>3</th>\n      <td>0</td>\n      <td>U dun say so early hor... U c already then say...</td>\n    </tr>\n    <tr>\n      <th>4</th>\n      <td>0</td>\n      <td>Nah I don't think he goes to usf, he lives aro...</td>\n    </tr>\n    <tr>\n      <th>5</th>\n      <td>1</td>\n      <td>FreeMsg Hey there darling it's been 3 week's n...</td>\n    </tr>\n    <tr>\n      <th>6</th>\n      <td>0</td>\n      <td>Even my brother is not like to speak with me. ...</td>\n    </tr>\n    <tr>\n      <th>7</th>\n      <td>0</td>\n      <td>As per your request 'Melle Melle (Oru Minnamin...</td>\n    </tr>\n    <tr>\n      <th>8</th>\n      <td>1</td>\n      <td>WINNER!! As a valued network customer you have...</td>\n    </tr>\n    <tr>\n      <th>9</th>\n      <td>1</td>\n      <td>Had your mobile 11 months or more? U R entitle...</td>\n    </tr>\n  </tbody>\n</table>\n</div>"
          },
          "metadata": {}
        }
      ]
    },
    {
      "cell_type": "markdown",
      "source": [
        "## Split the content and the category, the content will be trained and tested to make predictions and the category will be used to check those predictions"
      ],
      "metadata": {
        "id": "RrqwfgQud4SO"
      }
    },
    {
      "cell_type": "code",
      "source": [
        "X = data.Message\n",
        "y = data.Category"
      ],
      "metadata": {
        "execution": {
          "iopub.status.busy": "2024-05-16T19:08:41.20928Z",
          "iopub.execute_input": "2024-05-16T19:08:41.209616Z",
          "iopub.status.idle": "2024-05-16T19:08:41.213996Z",
          "shell.execute_reply.started": "2024-05-16T19:08:41.209589Z",
          "shell.execute_reply": "2024-05-16T19:08:41.213037Z"
        },
        "trusted": true,
        "id": "ax_XMrcOd4SO"
      },
      "execution_count": null,
      "outputs": []
    },
    {
      "cell_type": "markdown",
      "source": [
        "## Print first 5 of the messages and categories of the data"
      ],
      "metadata": {
        "id": "G350kBX5d4SO"
      }
    },
    {
      "cell_type": "code",
      "source": [
        "X.head(), y.head()"
      ],
      "metadata": {
        "execution": {
          "iopub.status.busy": "2024-05-16T19:08:41.215578Z",
          "iopub.execute_input": "2024-05-16T19:08:41.215992Z",
          "iopub.status.idle": "2024-05-16T19:08:41.231848Z",
          "shell.execute_reply.started": "2024-05-16T19:08:41.215961Z",
          "shell.execute_reply": "2024-05-16T19:08:41.230812Z"
        },
        "trusted": true,
        "id": "enRj47M9d4SO",
        "outputId": "75473894-427c-4151-e047-f0990dd01990"
      },
      "execution_count": null,
      "outputs": [
        {
          "execution_count": 12,
          "output_type": "execute_result",
          "data": {
            "text/plain": "(0    Go until jurong point, crazy.. Available only ...\n 1                        Ok lar... Joking wif u oni...\n 2    Free entry in 2 a wkly comp to win FA Cup fina...\n 3    U dun say so early hor... U c already then say...\n 4    Nah I don't think he goes to usf, he lives aro...\n Name: Message, dtype: object,\n 0    0\n 1    0\n 2    1\n 3    0\n 4    0\n Name: Category, dtype: int64)"
          },
          "metadata": {}
        }
      ]
    },
    {
      "cell_type": "markdown",
      "source": [
        "## Split the data into testing and training data, 80% of the data will be used to train and 20% will be used to test"
      ],
      "metadata": {
        "id": "qAfjaZ0Gd4SO"
      }
    },
    {
      "cell_type": "code",
      "source": [
        "from sklearn.model_selection import train_test_split\n",
        "X_train, X_test, y_train, y_test = train_test_split(X,\n",
        "                                                    y,\n",
        "                                                    test_size=0.2, #0.2 = 20% of data will be test and 80% will be train\n",
        "                                                    random_state=42)\n",
        "len(X_train), len(y_train), len(X_test), len(y_test)"
      ],
      "metadata": {
        "execution": {
          "iopub.status.busy": "2024-05-16T19:08:41.233466Z",
          "iopub.execute_input": "2024-05-16T19:08:41.233804Z",
          "iopub.status.idle": "2024-05-16T19:08:41.365661Z",
          "shell.execute_reply.started": "2024-05-16T19:08:41.233776Z",
          "shell.execute_reply": "2024-05-16T19:08:41.36449Z"
        },
        "trusted": true,
        "id": "VMGsKlQdd4SO",
        "outputId": "e6794674-1076-4ae7-d86c-6558a801d818"
      },
      "execution_count": null,
      "outputs": [
        {
          "execution_count": 13,
          "output_type": "execute_result",
          "data": {
            "text/plain": "(4457, 4457, 1115, 1115)"
          },
          "metadata": {}
        }
      ]
    },
    {
      "cell_type": "markdown",
      "source": [
        "## Create a TfidfVectorizer with removes strings that aren't all letters, removes most common english words, only takes into account 300 words, the words are significant enough\n",
        "transform and fit the training data, which evaluates the words in the data and assigns them numerical values\n",
        "\n",
        "transform the testing data, which assigns the words values based on the previous documents\n",
        "\n",
        "print first 10 words and values"
      ],
      "metadata": {
        "id": "xgrjUiezd4SO"
      }
    },
    {
      "cell_type": "code",
      "source": [
        "tfidf = TfidfVectorizer(token_pattern = '[a-z]+\\w*', stop_words='english', max_features=300, max_df=0.5, min_df=5)\n",
        "X_train = tfidf.fit_transform(X_train)\n",
        "X_test = tfidf.transform(X_test)\n",
        "print('\\nidf values:')\n",
        "i = 0\n",
        "for ele1, ele2 in zip(tfidf.get_feature_names_out(), tfidf.idf_):\n",
        "    print(ele1, ':', ele2)\n",
        "    i += 1\n",
        "    if i == 10:\n",
        "        break\n",
        "print(\"First 10 values\")"
      ],
      "metadata": {
        "execution": {
          "iopub.status.busy": "2024-05-16T19:08:41.367777Z",
          "iopub.execute_input": "2024-05-16T19:08:41.368526Z",
          "iopub.status.idle": "2024-05-16T19:08:41.529072Z",
          "shell.execute_reply.started": "2024-05-16T19:08:41.368481Z",
          "shell.execute_reply": "2024-05-16T19:08:41.52784Z"
        },
        "trusted": true,
        "id": "BWHu5E2Md4SP",
        "outputId": "2c3e322a-0f60-498c-c48e-96b66206b096"
      },
      "execution_count": null,
      "outputs": [
        {
          "name": "stdout",
          "text": "\nidf values:\nactually : 6.183579689077614\nafternoon : 6.144358975924332\nah : 5.968468309460668\naight : 6.001258132283659\namp : 5.377103823210665\napply : 6.183579689077614\nask : 5.275321128900723\nasked : 6.144358975924332\naward : 6.458016534779373\nawarded : 5.905947952479334\nFirst 10 values\n",
          "output_type": "stream"
        }
      ]
    },
    {
      "cell_type": "markdown",
      "source": [
        "## Make sure the vectorized sparse matrices can be turned into arrays"
      ],
      "metadata": {
        "id": "hnziQAKWd4SP"
      }
    },
    {
      "cell_type": "code",
      "source": [
        "print(X_train.toarray())"
      ],
      "metadata": {
        "execution": {
          "iopub.status.busy": "2024-05-16T19:08:41.535117Z",
          "iopub.execute_input": "2024-05-16T19:08:41.535478Z",
          "iopub.status.idle": "2024-05-16T19:08:41.561981Z",
          "shell.execute_reply.started": "2024-05-16T19:08:41.53545Z",
          "shell.execute_reply": "2024-05-16T19:08:41.560821Z"
        },
        "trusted": true,
        "id": "uk5cC5FMd4SP",
        "outputId": "a4e163db-1cbe-4deb-a4de-f18333a5a431"
      },
      "execution_count": null,
      "outputs": [
        {
          "name": "stdout",
          "text": "[[0. 0. 0. ... 0. 0. 0.]\n [0. 0. 0. ... 0. 0. 0.]\n [0. 0. 0. ... 0. 0. 0.]\n ...\n [0. 0. 0. ... 0. 0. 0.]\n [0. 0. 0. ... 0. 0. 0.]\n [0. 0. 0. ... 0. 0. 0.]]\n",
          "output_type": "stream"
        }
      ]
    },
    {
      "cell_type": "markdown",
      "source": [
        "### Idk why I did this tbh"
      ],
      "metadata": {
        "id": "33600Npsd4SP"
      }
    },
    {
      "cell_type": "code",
      "source": [
        "X.head(10)"
      ],
      "metadata": {
        "execution": {
          "iopub.status.busy": "2024-05-16T19:08:41.563172Z",
          "iopub.execute_input": "2024-05-16T19:08:41.563486Z",
          "iopub.status.idle": "2024-05-16T19:08:41.572622Z",
          "shell.execute_reply.started": "2024-05-16T19:08:41.56346Z",
          "shell.execute_reply": "2024-05-16T19:08:41.57148Z"
        },
        "trusted": true,
        "id": "5Y_CutEzd4SP",
        "outputId": "8b6c96a8-f711-466c-e66b-0055263d30a7"
      },
      "execution_count": null,
      "outputs": [
        {
          "execution_count": 16,
          "output_type": "execute_result",
          "data": {
            "text/plain": "0    Go until jurong point, crazy.. Available only ...\n1                        Ok lar... Joking wif u oni...\n2    Free entry in 2 a wkly comp to win FA Cup fina...\n3    U dun say so early hor... U c already then say...\n4    Nah I don't think he goes to usf, he lives aro...\n5    FreeMsg Hey there darling it's been 3 week's n...\n6    Even my brother is not like to speak with me. ...\n7    As per your request 'Melle Melle (Oru Minnamin...\n8    WINNER!! As a valued network customer you have...\n9    Had your mobile 11 months or more? U R entitle...\nName: Message, dtype: object"
          },
          "metadata": {}
        }
      ]
    },
    {
      "cell_type": "code",
      "source": [
        "y.head(10)"
      ],
      "metadata": {
        "execution": {
          "iopub.status.busy": "2024-05-16T19:08:41.574169Z",
          "iopub.execute_input": "2024-05-16T19:08:41.5745Z",
          "iopub.status.idle": "2024-05-16T19:08:41.585419Z",
          "shell.execute_reply.started": "2024-05-16T19:08:41.574474Z",
          "shell.execute_reply": "2024-05-16T19:08:41.584126Z"
        },
        "trusted": true,
        "id": "F_S0_v4cd4SP",
        "outputId": "34262969-3132-48f7-e4a3-62b4d4ea8bfa"
      },
      "execution_count": null,
      "outputs": [
        {
          "execution_count": 17,
          "output_type": "execute_result",
          "data": {
            "text/plain": "0    0\n1    0\n2    1\n3    0\n4    0\n5    1\n6    0\n7    0\n8    1\n9    1\nName: Category, dtype: int64"
          },
          "metadata": {}
        }
      ]
    },
    {
      "cell_type": "markdown",
      "source": [
        "## Turn the training and testing data into tensors that we can actually use in our model, must be converted to array first\n",
        "describe data"
      ],
      "metadata": {
        "id": "uQYNU7g8d4SP"
      }
    },
    {
      "cell_type": "code",
      "source": [
        "X_train = torch.Tensor(X_train.toarray())\n",
        "X_test = torch.Tensor(X_test.toarray())\n",
        "X_train, X_test, X_train.size(), X_test.size()"
      ],
      "metadata": {
        "execution": {
          "iopub.status.busy": "2024-05-16T19:08:41.587093Z",
          "iopub.execute_input": "2024-05-16T19:08:41.587566Z",
          "iopub.status.idle": "2024-05-16T19:08:41.709924Z",
          "shell.execute_reply.started": "2024-05-16T19:08:41.587534Z",
          "shell.execute_reply": "2024-05-16T19:08:41.708714Z"
        },
        "trusted": true,
        "id": "Wg1aqb3Bd4SP",
        "outputId": "522e4040-2951-4c24-eb77-283b2fc205fe"
      },
      "execution_count": null,
      "outputs": [
        {
          "execution_count": 18,
          "output_type": "execute_result",
          "data": {
            "text/plain": "(tensor([[0., 0., 0.,  ..., 0., 0., 0.],\n         [0., 0., 0.,  ..., 0., 0., 0.],\n         [0., 0., 0.,  ..., 0., 0., 0.],\n         ...,\n         [0., 0., 0.,  ..., 0., 0., 0.],\n         [0., 0., 0.,  ..., 0., 0., 0.],\n         [0., 0., 0.,  ..., 0., 0., 0.]]),\n tensor([[0., 0., 0.,  ..., 0., 0., 0.],\n         [0., 0., 0.,  ..., 0., 0., 0.],\n         [0., 0., 0.,  ..., 0., 0., 0.],\n         ...,\n         [0., 0., 0.,  ..., 0., 0., 0.],\n         [0., 0., 0.,  ..., 0., 0., 0.],\n         [0., 0., 0.,  ..., 0., 0., 0.]]),\n torch.Size([4457, 300]),\n torch.Size([1115, 300]))"
          },
          "metadata": {}
        }
      ]
    },
    {
      "cell_type": "markdown",
      "source": [
        "## Turn the categories into tensors as well, first have to convert from pandas Series to numpy arrays, then numpy arrays to tensors"
      ],
      "metadata": {
        "id": "bnc4MBmyd4SQ"
      }
    },
    {
      "cell_type": "code",
      "source": [
        "y_train = pd.Series.to_numpy(y_train)\n",
        "y_test = pd.Series.to_numpy(y_test)\n",
        "y_train = torch.Tensor(y_train)\n",
        "y_test = torch.Tensor(y_test)\n",
        "y_train, y_test"
      ],
      "metadata": {
        "execution": {
          "iopub.status.busy": "2024-05-16T19:08:41.711537Z",
          "iopub.execute_input": "2024-05-16T19:08:41.711876Z",
          "iopub.status.idle": "2024-05-16T19:08:41.736105Z",
          "shell.execute_reply.started": "2024-05-16T19:08:41.711849Z",
          "shell.execute_reply": "2024-05-16T19:08:41.734949Z"
        },
        "trusted": true,
        "id": "tAlzSFU7d4SQ",
        "outputId": "59718530-90af-4608-f896-ec91cad54b0c"
      },
      "execution_count": null,
      "outputs": [
        {
          "execution_count": 19,
          "output_type": "execute_result",
          "data": {
            "text/plain": "(tensor([1., 0., 0.,  ..., 0., 0., 0.]),\n tensor([0., 0., 0.,  ..., 0., 0., 0.]))"
          },
          "metadata": {}
        }
      ]
    },
    {
      "cell_type": "code",
      "source": [
        "y_train.size(), y_test.size()"
      ],
      "metadata": {
        "execution": {
          "iopub.status.busy": "2024-05-16T19:08:41.737789Z",
          "iopub.execute_input": "2024-05-16T19:08:41.738115Z",
          "iopub.status.idle": "2024-05-16T19:08:41.745466Z",
          "shell.execute_reply.started": "2024-05-16T19:08:41.738086Z",
          "shell.execute_reply": "2024-05-16T19:08:41.744302Z"
        },
        "trusted": true,
        "id": "1l_rxbG2d4SQ",
        "outputId": "9904bf59-f30e-453d-8c4c-af330ab4c7c7"
      },
      "execution_count": null,
      "outputs": [
        {
          "execution_count": 20,
          "output_type": "execute_result",
          "data": {
            "text/plain": "(torch.Size([4457]), torch.Size([1115]))"
          },
          "metadata": {}
        }
      ]
    },
    {
      "cell_type": "markdown",
      "source": [
        "## Make sure data types match for Messages and Categories"
      ],
      "metadata": {
        "id": "10dCPgn0d4SQ"
      }
    },
    {
      "cell_type": "code",
      "source": [
        "X_test.dtype, y_test.dtype"
      ],
      "metadata": {
        "execution": {
          "iopub.status.busy": "2024-05-16T19:08:41.747286Z",
          "iopub.execute_input": "2024-05-16T19:08:41.748009Z",
          "iopub.status.idle": "2024-05-16T19:08:41.758463Z",
          "shell.execute_reply.started": "2024-05-16T19:08:41.747968Z",
          "shell.execute_reply": "2024-05-16T19:08:41.757068Z"
        },
        "trusted": true,
        "id": "Z8xtO62Hd4SQ",
        "outputId": "16e27de5-5e47-4966-d978-f44bee3e786f"
      },
      "execution_count": null,
      "outputs": [
        {
          "execution_count": 21,
          "output_type": "execute_result",
          "data": {
            "text/plain": "(torch.float32, torch.float32)"
          },
          "metadata": {}
        }
      ]
    },
    {
      "cell_type": "markdown",
      "source": [
        "## Create model with 2 layers, one with 300 features since that's the amount of features the tensors have from the vectorization, and a ReLU activation function for nonlinearity"
      ],
      "metadata": {
        "id": "MUqWqlRLd4SQ"
      }
    },
    {
      "cell_type": "code",
      "source": [
        "class SpamClassificationModel(nn.Module):\n",
        "    def __init__(self):\n",
        "        super().__init__()\n",
        "        self.layer_1 = nn.Linear(in_features=300, out_features=200)\n",
        "        self.layer_2 = nn.Linear(in_features=200, out_features=1)\n",
        "        self.relu = nn.ReLU()\n",
        "\n",
        "    def forward(self, x):\n",
        "        return self.layer_2(self.relu(self.layer_1(x)))\n",
        ""
      ],
      "metadata": {
        "execution": {
          "iopub.status.busy": "2024-05-16T19:08:41.760672Z",
          "iopub.execute_input": "2024-05-16T19:08:41.761488Z",
          "iopub.status.idle": "2024-05-16T19:08:41.770068Z",
          "shell.execute_reply.started": "2024-05-16T19:08:41.761434Z",
          "shell.execute_reply": "2024-05-16T19:08:41.768843Z"
        },
        "trusted": true,
        "id": "t0LqUlY2d4SQ"
      },
      "execution_count": null,
      "outputs": []
    },
    {
      "cell_type": "markdown",
      "source": [
        "## Instantiate model"
      ],
      "metadata": {
        "id": "_P5u7Cmxd4ST"
      }
    },
    {
      "cell_type": "code",
      "source": [
        "model = SpamClassificationModel()"
      ],
      "metadata": {
        "execution": {
          "iopub.status.busy": "2024-05-16T19:08:41.772133Z",
          "iopub.execute_input": "2024-05-16T19:08:41.772575Z",
          "iopub.status.idle": "2024-05-16T19:08:41.791214Z",
          "shell.execute_reply.started": "2024-05-16T19:08:41.772536Z",
          "shell.execute_reply": "2024-05-16T19:08:41.790019Z"
        },
        "trusted": true,
        "id": "wrGkes47d4SU"
      },
      "execution_count": null,
      "outputs": []
    },
    {
      "cell_type": "markdown",
      "source": [
        "## Make predictions with untrained model"
      ],
      "metadata": {
        "id": "W1uGpgbdd4SU"
      }
    },
    {
      "cell_type": "code",
      "source": [
        "with torch.inference_mode():\n",
        "    untrained_preds = model(X_test)\n",
        "print(f\"Length of predictions: {len(untrained_preds)}, Shape: {untrained_preds.shape}\")\n",
        "print(f\"Length of test samples: {len(X_test)}, Shape: {X_test.shape}\")\n",
        "print(f\"\\nFirst 20 predictions:\\n{torch.round(untrained_preds[:20])}\")\n",
        "print(f\"\\nFirst 20 labels:\\n{y_test[:20]}\")"
      ],
      "metadata": {
        "execution": {
          "iopub.status.busy": "2024-05-16T19:08:41.793168Z",
          "iopub.execute_input": "2024-05-16T19:08:41.793738Z",
          "iopub.status.idle": "2024-05-16T19:08:41.823802Z",
          "shell.execute_reply.started": "2024-05-16T19:08:41.793707Z",
          "shell.execute_reply": "2024-05-16T19:08:41.822913Z"
        },
        "trusted": true,
        "id": "5u3_sgqsd4SU",
        "outputId": "02fbf6a6-dac1-4b33-bf2b-395d129578d4"
      },
      "execution_count": null,
      "outputs": [
        {
          "name": "stdout",
          "text": "Length of predictions: 1115, Shape: torch.Size([1115, 1])\nLength of test samples: 1115, Shape: torch.Size([1115, 300])\n\nFirst 20 predictions:\ntensor([[0.],\n        [0.],\n        [0.],\n        [0.],\n        [0.],\n        [0.],\n        [0.],\n        [0.],\n        [0.],\n        [0.],\n        [0.],\n        [0.],\n        [0.],\n        [0.],\n        [0.],\n        [0.],\n        [0.],\n        [0.],\n        [0.],\n        [0.]])\n\nFirst 20 labels:\ntensor([0., 0., 0., 0., 0., 0., 0., 0., 0., 0., 0., 0., 0., 0., 1., 0., 0., 0.,\n        0., 0.])\n",
          "output_type": "stream"
        }
      ]
    },
    {
      "cell_type": "markdown",
      "source": [
        "### idek check data types again because I guess I forgot that I did that earlier"
      ],
      "metadata": {
        "id": "1G_XuKMmd4SU"
      }
    },
    {
      "cell_type": "code",
      "source": [
        "X_test.dtype, y_test.dtype"
      ],
      "metadata": {
        "execution": {
          "iopub.status.busy": "2024-05-16T19:08:41.825299Z",
          "iopub.execute_input": "2024-05-16T19:08:41.825923Z",
          "iopub.status.idle": "2024-05-16T19:08:41.832106Z",
          "shell.execute_reply.started": "2024-05-16T19:08:41.82589Z",
          "shell.execute_reply": "2024-05-16T19:08:41.831184Z"
        },
        "trusted": true,
        "id": "ZhlzB6AZd4SU",
        "outputId": "69bf98fa-e501-4d85-e52b-e64ca2ee0454"
      },
      "execution_count": null,
      "outputs": [
        {
          "execution_count": 25,
          "output_type": "execute_result",
          "data": {
            "text/plain": "(torch.float32, torch.float32)"
          },
          "metadata": {}
        }
      ]
    },
    {
      "cell_type": "markdown",
      "source": [
        "## Create the loss function and optimizer, using binary cross entropy loss with logits and Adam"
      ],
      "metadata": {
        "id": "4Sqh5lhXd4SU"
      }
    },
    {
      "cell_type": "code",
      "source": [
        "loss_fn = nn.BCEWithLogitsLoss()\n",
        "optimizer = torch.optim.Adam(params=model.parameters(),\n",
        "                            lr=0.01)"
      ],
      "metadata": {
        "execution": {
          "iopub.status.busy": "2024-05-16T19:08:41.833655Z",
          "iopub.execute_input": "2024-05-16T19:08:41.834263Z",
          "iopub.status.idle": "2024-05-16T19:08:45.061814Z",
          "shell.execute_reply.started": "2024-05-16T19:08:41.83423Z",
          "shell.execute_reply": "2024-05-16T19:08:45.060338Z"
        },
        "trusted": true,
        "id": "baz5T2-5d4SU"
      },
      "execution_count": null,
      "outputs": []
    },
    {
      "cell_type": "markdown",
      "source": [
        "## Create accuracy function to determine accuracy of model"
      ],
      "metadata": {
        "id": "er4mn3bTd4SU"
      }
    },
    {
      "cell_type": "code",
      "source": [
        "def accuracy_fn(y_true, y_pred):\n",
        "    correct = torch.eq(y_true, y_pred).sum().item()\n",
        "    acc = (correct/len(y_pred)) * 100\n",
        "    return acc"
      ],
      "metadata": {
        "execution": {
          "iopub.status.busy": "2024-05-16T19:08:45.06331Z",
          "iopub.execute_input": "2024-05-16T19:08:45.064166Z",
          "iopub.status.idle": "2024-05-16T19:08:45.069443Z",
          "shell.execute_reply.started": "2024-05-16T19:08:45.064127Z",
          "shell.execute_reply": "2024-05-16T19:08:45.068381Z"
        },
        "trusted": true,
        "id": "oW8wpWOId4SU"
      },
      "execution_count": null,
      "outputs": []
    },
    {
      "cell_type": "markdown",
      "source": [
        "## Training and testing loop!\n",
        "torch.manual_seed to produce results that can be replicated\n",
        "\n",
        "1000 epochs, yada yada yada sigmoid the logits and round them to get either ones or zeros\n",
        "\n",
        "print out epochs, losses, and accuracies"
      ],
      "metadata": {
        "id": "Ybl5WOKdd4SU"
      }
    },
    {
      "cell_type": "code",
      "source": [
        "torch.manual_seed(24)\n",
        "epochs = 1000\n",
        "for epoch in range(epochs):\n",
        "    model.train()\n",
        "\n",
        "    y_logits = model(X_train).squeeze()\n",
        "    y_pred = torch.round(torch.sigmoid(y_logits))\n",
        "\n",
        "    loss = loss_fn(y_logits, y_train)\n",
        "    acc = accuracy_fn(y_true=y_train, y_pred=y_pred)\n",
        "\n",
        "    optimizer.zero_grad()\n",
        "\n",
        "    loss.backward()\n",
        "\n",
        "    optimizer.step()\n",
        "\n",
        "    model.eval()\n",
        "    with torch.inference_mode():\n",
        "        test_logits = model(X_test).squeeze()\n",
        "        test_pred = torch.round(torch.sigmoid(test_logits))\n",
        "\n",
        "        test_loss = loss_fn(test_logits,\n",
        "                            y_test)\n",
        "        test_acc = accuracy_fn(y_true=y_test,\n",
        "                               y_pred=test_pred)\n",
        "\n",
        "    if epoch % 100 == 0:\n",
        "        print(f\"Epoch: {epoch} | Loss: {loss:.5f} Acc: {acc:.2f} &% | Test loss: {test_loss:.5f}, Test acc: {test_acc:.2f}%\")"
      ],
      "metadata": {
        "execution": {
          "iopub.status.busy": "2024-05-16T19:08:45.070813Z",
          "iopub.execute_input": "2024-05-16T19:08:45.071344Z",
          "iopub.status.idle": "2024-05-16T19:09:01.967297Z",
          "shell.execute_reply.started": "2024-05-16T19:08:45.071313Z",
          "shell.execute_reply": "2024-05-16T19:09:01.966224Z"
        },
        "trusted": true,
        "id": "Hr6eiuq8d4SV",
        "outputId": "fef55e87-4cc5-4753-d26d-1c4adc628ebf"
      },
      "execution_count": null,
      "outputs": [
        {
          "name": "stdout",
          "text": "Epoch: 0 | Loss: 0.70784 Acc: 13.55 &% | Test loss: 0.64921, Test acc: 90.94%\nEpoch: 100 | Loss: 0.02077 Acc: 99.51 &% | Test loss: 0.11978, Test acc: 97.94%\nEpoch: 200 | Loss: 0.01238 Acc: 99.62 &% | Test loss: 0.13866, Test acc: 97.76%\nEpoch: 300 | Loss: 0.01121 Acc: 99.62 &% | Test loss: 0.15371, Test acc: 97.94%\nEpoch: 400 | Loss: 0.01096 Acc: 99.62 &% | Test loss: 0.16318, Test acc: 97.94%\nEpoch: 500 | Loss: 0.01087 Acc: 99.62 &% | Test loss: 0.16966, Test acc: 97.85%\nEpoch: 600 | Loss: 0.01082 Acc: 99.62 &% | Test loss: 0.17458, Test acc: 97.94%\nEpoch: 700 | Loss: 0.01080 Acc: 99.62 &% | Test loss: 0.17889, Test acc: 98.03%\nEpoch: 800 | Loss: 0.01078 Acc: 99.62 &% | Test loss: 0.18256, Test acc: 98.03%\nEpoch: 900 | Loss: 0.01077 Acc: 99.62 &% | Test loss: 0.18580, Test acc: 97.94%\n",
          "output_type": "stream"
        }
      ]
    },
    {
      "cell_type": "markdown",
      "source": [
        "### idk"
      ],
      "metadata": {
        "id": "3UEC32qDd4SV"
      }
    },
    {
      "cell_type": "code",
      "source": [
        "print(y_test.size())\n",
        "print(test_pred.size())"
      ],
      "metadata": {
        "execution": {
          "iopub.status.busy": "2024-05-16T19:09:01.968728Z",
          "iopub.execute_input": "2024-05-16T19:09:01.969915Z",
          "iopub.status.idle": "2024-05-16T19:09:01.977613Z",
          "shell.execute_reply.started": "2024-05-16T19:09:01.969867Z",
          "shell.execute_reply": "2024-05-16T19:09:01.976248Z"
        },
        "trusted": true,
        "id": "mhS9lqhJd4SV",
        "outputId": "7a88ff2e-dbeb-4653-f514-051b54e700bc"
      },
      "execution_count": null,
      "outputs": [
        {
          "name": "stdout",
          "text": "torch.Size([1115])\ntorch.Size([1115])\n",
          "output_type": "stream"
        }
      ]
    },
    {
      "cell_type": "markdown",
      "source": [
        "## Test my my model on my own data and emails and print out the process so we can actually see that the model works"
      ],
      "metadata": {
        "id": "V3lghKgAd4SV"
      }
    },
    {
      "cell_type": "code",
      "source": [
        "def test_predictions(test_spam):\n",
        "    model.eval()\n",
        "    with torch.inference_mode():\n",
        "        trained_test_pred = torch.round(torch.sigmoid(model(test_spam)))\n",
        "    for i in range(len(trained_test_pred)):\n",
        "        if trained_test_pred[i] == 1:\n",
        "            print(\"Spam: \\\"\" + test_df.iloc[i].Message + \"\\\"\")\n",
        "        else:\n",
        "            print(\"Not Spam: \\\"\" + test_df.iloc[i].Message + \"\\\"\")\n",
        "        print()"
      ],
      "metadata": {
        "execution": {
          "iopub.status.busy": "2024-05-16T19:09:01.979296Z",
          "iopub.execute_input": "2024-05-16T19:09:01.98061Z",
          "iopub.status.idle": "2024-05-16T19:09:01.99034Z",
          "shell.execute_reply.started": "2024-05-16T19:09:01.980566Z",
          "shell.execute_reply": "2024-05-16T19:09:01.989071Z"
        },
        "trusted": true,
        "id": "BusKnyu2d4SV"
      },
      "execution_count": null,
      "outputs": []
    },
    {
      "cell_type": "code",
      "source": [
        "test_data = [['Congratulations! You’ve won a $500 Amazon gift card. Claim it here', 1], ['Hey man, want to grab coffee and catch up sometime next week?', 0], ['FREE MONNEY NOW! Enter in this raffle TODAY for a chance to win $1,000,000!!!', 1], ['Hi Jacob! Ive attached a worksheet that we did in phsyics today. Let me know if you have any questions! Best, Hanan', 0], ['You Won an amazing offer! Guaranteed results within days! No upfront costs or investments required! Access to exclusive bonuses and discounts! Join thousands of satisfied customers who have already experienced life-changing results! But wait, theres more! Act now and receive a special discount of 100% off your first purchase! This limited-time offer wont last long, so dont miss out on this golden opportunity! To take advantage of this incredible offer, simply click on the link below or reply to this email with your contact information', 1], ['enter this raffle to win free money, aight. It good and I promise you will win just enter your credit card info to this link. www.link.com', 1], [\"Dear [Recipient], Youve been personally selected for a special opportunity that's too good to ignore! For a brief window of time, you have the chance to seize a complimentary luxury vacation package to a destination of your choosing! Picture yourself basking in the sun on pristine beaches, enjoying fine dining, and immersing yourself in a world of relaxation—all at no cost to you! But that's not all. Alongside your dream vacation, youll also receive an automatic upgrade to our VIP membership, unlocking a treasure trove of exclusive perks and benefits that you won't find anywhere else! To secure your FREE vacation and unlock VIP access, simply click the link below and provide your details: [Claim Your FREE Vacation Now!]  Act fast! This offer is only available for a limited time, and slots are rapidly filling up! Dont let this chance for luxury slip away! Best Regards, [Your Name] Customer Experience Manager Luxury Travel Co.\", 1], [\"Dear Jacob, I hope this message finds you well. I'm reaching out to you with a heavy heart and a bit of vulnerability. As you know, I've encountered some unexpected financial challenges recently. Despite my best efforts to manage my finances responsibly, I find myself in a situation where I could really use some assistance. I wouldn't ask if I didn't truly need the help, and I wouldn't be coming to you if I didn't trust and value our friendship deeply. I'm reaching out to ask if you might be able to lend me some financial support during this difficult time. Whether it's a small loan or any amount you're comfortable with, it would mean the world to me and would go a long way in helping me get back on my feet. I understand that this is a big ask, and please know that I wouldn't expect anything without the intention of paying it back as soon as I am able. I'm committed to doing everything in my power to overcome this setback and to honor your generosity. If you're able to help, please let me know, and we can discuss the details further. If not, I completely understand, and I want you to know that your friendship and support mean more to me than anything. Thank you for taking the time to consider my request, and thank you, above all, for being the incredible friend that you are. With heartfelt gratitude, Marcus\", 0]]\n",
        "test_df = pd.DataFrame(test_data, columns=['Message', 'Category'])\n",
        "print(test_df)\n",
        "test_spam = test_df.Message\n",
        "test_spam = tfidf.transform(test_spam)\n",
        "test_spam = torch.Tensor(test_spam.toarray())"
      ],
      "metadata": {
        "execution": {
          "iopub.status.busy": "2024-05-16T19:17:08.57331Z",
          "iopub.execute_input": "2024-05-16T19:17:08.573801Z",
          "iopub.status.idle": "2024-05-16T19:17:08.592274Z",
          "shell.execute_reply.started": "2024-05-16T19:17:08.573743Z",
          "shell.execute_reply": "2024-05-16T19:17:08.590255Z"
        },
        "trusted": true,
        "id": "iDq-JT3Ed4SV",
        "outputId": "b61c664f-ea23-450e-e8c2-e5ce55a6efc4"
      },
      "execution_count": null,
      "outputs": [
        {
          "name": "stdout",
          "text": "                                             Message  Category\n0  Congratulations! You’ve won a $500 Amazon gift...         1\n1  Hey man, want to grab coffee and catch up some...         0\n2  FREE MONNEY NOW! Enter in this raffle TODAY fo...         1\n3  Hi Jacob! Ive attached a worksheet that we did...         0\n4  You Won an amazing offer! Guaranteed results w...         1\n5  enter this raffle to win free money, aight. It...         1\n6  Dear [Recipient], Youve been personally select...         1\n7  Dear Jacob, I hope this message finds you well...         0\n",
          "output_type": "stream"
        }
      ]
    },
    {
      "cell_type": "code",
      "source": [
        "test_predictions(test_spam)"
      ],
      "metadata": {
        "execution": {
          "iopub.status.busy": "2024-05-16T19:17:09.304726Z",
          "iopub.execute_input": "2024-05-16T19:17:09.305141Z",
          "iopub.status.idle": "2024-05-16T19:17:09.313178Z",
          "shell.execute_reply.started": "2024-05-16T19:17:09.305108Z",
          "shell.execute_reply": "2024-05-16T19:17:09.311642Z"
        },
        "trusted": true,
        "id": "H_mJocnGd4SW",
        "outputId": "b37d96e9-2d0c-42f6-8801-a743c276afd7"
      },
      "execution_count": null,
      "outputs": [
        {
          "name": "stdout",
          "text": "Spam: \"Congratulations! You’ve won a $500 Amazon gift card. Claim it here\"\n\nNot Spam: \"Hey man, want to grab coffee and catch up sometime next week?\"\n\nSpam: \"FREE MONNEY NOW! Enter in this raffle TODAY for a chance to win $1,000,000!!!\"\n\nNot Spam: \"Hi Jacob! Ive attached a worksheet that we did in phsyics today. Let me know if you have any questions! Best, Hanan\"\n\nSpam: \"You Won an amazing offer! Guaranteed results within days! No upfront costs or investments required! Access to exclusive bonuses and discounts! Join thousands of satisfied customers who have already experienced life-changing results! But wait, theres more! Act now and receive a special discount of 100% off your first purchase! This limited-time offer wont last long, so dont miss out on this golden opportunity! To take advantage of this incredible offer, simply click on the link below or reply to this email with your contact information\"\n\nSpam: \"enter this raffle to win free money, aight. It good and I promise you will win just enter your credit card info to this link. www.link.com\"\n\nSpam: \"Dear [Recipient], Youve been personally selected for a special opportunity that's too good to ignore! For a brief window of time, you have the chance to seize a complimentary luxury vacation package to a destination of your choosing! Picture yourself basking in the sun on pristine beaches, enjoying fine dining, and immersing yourself in a world of relaxation—all at no cost to you! But that's not all. Alongside your dream vacation, youll also receive an automatic upgrade to our VIP membership, unlocking a treasure trove of exclusive perks and benefits that you won't find anywhere else! To secure your FREE vacation and unlock VIP access, simply click the link below and provide your details: [Claim Your FREE Vacation Now!]  Act fast! This offer is only available for a limited time, and slots are rapidly filling up! Dont let this chance for luxury slip away! Best Regards, [Your Name] Customer Experience Manager Luxury Travel Co.\"\n\nNot Spam: \"Dear Jacob, I hope this message finds you well. I'm reaching out to you with a heavy heart and a bit of vulnerability. As you know, I've encountered some unexpected financial challenges recently. Despite my best efforts to manage my finances responsibly, I find myself in a situation where I could really use some assistance. I wouldn't ask if I didn't truly need the help, and I wouldn't be coming to you if I didn't trust and value our friendship deeply. I'm reaching out to ask if you might be able to lend me some financial support during this difficult time. Whether it's a small loan or any amount you're comfortable with, it would mean the world to me and would go a long way in helping me get back on my feet. I understand that this is a big ask, and please know that I wouldn't expect anything without the intention of paying it back as soon as I am able. I'm committed to doing everything in my power to overcome this setback and to honor your generosity. If you're able to help, please let me know, and we can discuss the details further. If not, I completely understand, and I want you to know that your friendship and support mean more to me than anything. Thank you for taking the time to consider my request, and thank you, above all, for being the incredible friend that you are. With heartfelt gratitude, Marcus\"\n\n",
          "output_type": "stream"
        }
      ]
    },
    {
      "cell_type": "code",
      "source": [],
      "metadata": {
        "id": "AX5oZC-wd4SW"
      },
      "execution_count": null,
      "outputs": []
    }
  ]
}